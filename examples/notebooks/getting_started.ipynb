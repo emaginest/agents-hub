{
 "cells": [
  {
   "cell_type": "markdown",
   "metadata": {},
   "source": [
    "# Getting Started with Agents Hub\n",
    "\n",
    "This notebook demonstrates how to use the Agents Hub framework to create and orchestrate intelligent agents."
   ]
  },
  {
   "cell_type": "markdown",
   "metadata": {},
   "source": [
    "## Setup\n",
    "\n",
    "First, let's install the Agents Hub package:"
   ]
  },
  {
   "cell_type": "code",
   "execution_count": null,
   "metadata": {},
   "outputs": [],
   "source": [
    "# Uncomment to install the package\n",
    "# !pip install agents-hub"
   ]
  },
  {
   "cell_type": "markdown",
   "metadata": {},
   "source": [
    "## Import Dependencies\n",
    "\n",
    "Now, let's import the necessary components from Agents Hub:"
   ]
  },
  {
   "cell_type": "code",
   "execution_count": null,
   "metadata": {},
   "outputs": [],
   "source": [
    "import os\n",
    "import asyncio\n",
    "from dotenv import load_dotenv\n",
    "\n",
    "# Load environment variables from .env file\n",
    "load_dotenv()\n",
    "\n",
    "# Import Agents Hub components\n",
    "from agents_hub import Agent, AgentWorkforce\n",
    "from agents_hub.llm.providers import OpenAIProvider, OllamaProvider\n",
    "from agents_hub.tools.standard import CalculatorTool"
   ]
  },
  {
   "cell_type": "markdown",
   "metadata": {},
   "source": [
    "## Configure LLM Provider\n",
    "\n",
    "Let's set up an LLM provider. You can choose between OpenAI, Claude, Gemini, or Ollama:"
   ]
  },
  {
   "cell_type": "code",
   "execution_count": null,
   "metadata": {},
   "outputs": [],
   "source": [
    "# Option 1: OpenAI (requires API key)\n",
    "if os.environ.get(\"OPENAI_API_KEY\"):\n",
    "    llm = OpenAIProvider(\n",
    "        api_key=os.environ[\"OPENAI_API_KEY\"],\n",
    "        model=os.environ.get(\"OPENAI_MODEL\", \"gpt-4o-mini\"),\n",
    "    )\n",
    "    print(\"Using OpenAI provider\")\n",
    "else:\n",
    "    # Option 2: Ollama (local LLM, no API key required)\n",
    "    llm = OllamaProvider(\n",
    "        model=os.environ.get(\"OLLAMA_MODEL\", \"llama3\"),\n",
    "        base_url=os.environ.get(\"OLLAMA_BASE_URL\", \"http://localhost:11434\"),\n",
    "    )\n",
    "    print(\"Using Ollama provider (local)\")"
   ]
  },
  {
   "cell_type": "markdown",
   "metadata": {},
   "source": [
    "## Create Specialized Agents\n",
    "\n",
    "Now, let's create some specialized agents:"
   ]
  },
  {
   "cell_type": "code",
   "execution_count": null,
   "metadata": {},
   "outputs": [],
   "source": [
    "# Create a calculator tool\n",
    "calculator_tool = CalculatorTool()\n",
    "\n",
    "# Create a researcher agent\n",
    "researcher = Agent(\n",
    "    name=\"researcher\",\n",
    "    llm=llm,\n",
    "    tools=[calculator_tool],\n",
    "    system_prompt=\"You are a helpful research assistant. Your job is to provide accurate, well-researched information on any topic. Always cite your sources when possible.\",\n",
    "    description=\"Research assistant that provides accurate information on any topic\",\n",
    ")\n",
    "\n",
    "# Create a writer agent\n",
    "writer = Agent(\n",
    "    name=\"writer\",\n",
    "    llm=llm,\n",
    "    system_prompt=\"You are a skilled writer and editor. Your job is to help create, refine, and improve written content. You can help with drafting, editing, proofreading, and providing feedback on writing style and structure.\",\n",
    "    description=\"Writer and editor that helps create and improve written content\",\n",
    ")"
   ]
  },
  {
   "cell_type": "markdown",
   "metadata": {},
   "source": [
    "## Create an Agent Workforce\n",
    "\n",
    "Let's create a workforce with our specialized agents:"
   ]
  },
  {
   "cell_type": "code",
   "execution_count": null,
   "metadata": {},
   "outputs": [],
   "source": [
    "# Create a workforce\n",
    "workforce = AgentWorkforce(\n",
    "    agents=[researcher, writer],\n",
    ")"
   ]
  },
  {
   "cell_type": "markdown",
   "metadata": {},
   "source": [
    "## Execute a Task\n",
    "\n",
    "Now, let's execute a task with our workforce:"
   ]
  },
  {
   "cell_type": "code",
   "execution_count": null,
   "metadata": {},
   "outputs": [],
   "source": [
    "# Define a task\n",
    "task = \"Research the benefits of meditation and write a short article about it.\"\n",
    "\n",
    "# Execute the task\n",
    "async def run_task():\n",
    "    result = await workforce.execute(task)\n",
    "    return result\n",
    "\n",
    "# Run the task\n",
    "result = await run_task()\n",
    "\n",
    "# Print the result\n",
    "print(result[\"result\"])"
   ]
  },
  {
   "cell_type": "markdown",
   "metadata": {},
   "source": [
    "## Using a Specific Agent\n",
    "\n",
    "You can also execute a task with a specific agent:"
   ]
  },
  {
   "cell_type": "code",
   "execution_count": null,
   "metadata": {},
   "outputs": [],
   "source": [
    "# Execute a task with the researcher agent\n",
    "async def run_researcher_task():\n",
    "    result = await researcher.run(\"What are the health benefits of regular exercise?\")\n",
    "    return result\n",
    "\n",
    "# Run the task\n",
    "researcher_result = await run_researcher_task()\n",
    "\n",
    "# Print the result\n",
    "print(researcher_result)"
   ]
  },
  {
   "cell_type": "markdown",
   "metadata": {},
   "source": [
    "## Conclusion\n",
    "\n",
    "This notebook demonstrated how to use the Agents Hub framework to create and orchestrate intelligent agents. You can extend this example by:\n",
    "\n",
    "1. Adding more specialized agents\n",
    "2. Creating custom tools\n",
    "3. Implementing memory systems\n",
    "4. Adding RAG capabilities\n",
    "\n",
    "For more examples, check out the [Agents Hub documentation](https://github.com/emagine-solutions/agents-hub)."
   ]
  }
 ],
 "metadata": {
  "kernelspec": {
   "display_name": "Python 3",
   "language": "python",
   "name": "python3"
  },
  "language_info": {
   "codemirror_mode": {
    "name": "ipython",
    "version": 3
   },
   "file_extension": ".py",
   "mimetype": "text/x-python",
   "name": "python",
   "nbconvert_exporter": "python",
   "pygments_lexer": "ipython3",
   "version": "3.9.0"
  }
 },
 "nbformat": 4,
 "nbformat_minor": 4
}
